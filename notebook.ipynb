{
 "cells": [
  {
   "cell_type": "markdown",
   "metadata": {},
   "source": [
    "Functors - Objects with a map function\n"
   ]
  },
  {
   "cell_type": "code",
   "execution_count": 12,
   "metadata": {},
   "outputs": [],
   "source": [
    "class Functor:\n",
    "    def __init__(self, value):\n",
    "        self.value = value\n",
    "    def map(self, func):\n",
    "        return Functor(func(self.value))\n",
    "    def __str__(self):\n",
    "        return \"Functor(%s)\" % self.value"
   ]
  },
  {
   "cell_type": "code",
   "execution_count": 13,
   "metadata": {},
   "outputs": [
    {
     "name": "stdout",
     "output_type": "stream",
     "text": [
      "Functor(5)\n",
      "Functor(10)\n"
     ]
    }
   ],
   "source": [
    "Five = Functor(5)\n",
    "print(Five)\n",
    "Ten = Five.map(lambda v: v*2)\n",
    "print(Ten)"
   ]
  },
  {
   "cell_type": "code",
   "execution_count": 14,
   "metadata": {},
   "outputs": [
    {
     "name": "stdout",
     "output_type": "stream",
     "text": [
      "Functor(Functor(10))\n"
     ]
    }
   ],
   "source": [
    "BadTen = Five.map(lambda v: Functor(v*2))\n",
    "print(BadTen)"
   ]
  },
  {
   "cell_type": "markdown",
   "metadata": {},
   "source": [
    "=== Monad - Objects with flatMap function ==="
   ]
  },
  {
   "cell_type": "code",
   "execution_count": 11,
   "metadata": {},
   "outputs": [
    {
     "name": "stdout",
     "output_type": "stream",
     "text": [
      "waiting for random dog...\n",
      "downloading dog...\n"
     ]
    },
    {
     "data": {
      "text/html": [
       "<img src=\"https://images.dog.ceo/breeds/vizsla/n02100583_1214.jpg\"/>"
      ],
      "text/plain": [
       "<IPython.core.display.Image object>"
      ]
     },
     "metadata": {},
     "output_type": "display_data"
    }
   ],
   "source": [
    "import asyncio\n",
    "import requests\n",
    "from IPython.display import Image \n",
    "\n",
    "def random_dog():\n",
    "    response = requests.get(\"https://dog.ceo/api/breeds/image/random\")\n",
    "    return response.json()\n",
    "\n",
    "def fetch_image(url):\n",
    "    return Image(url=url)\n",
    "    \n",
    "loop = asyncio.get_running_loop()\n",
    "result = loop.run_in_executor(None, random_dog)\n",
    "print(\"waiting for random dog...\")\n",
    "url = (await result)[\"message\"]\n",
    "image = loop.run_in_executor(None, lambda: fetch_image(url))\n",
    "print(\"downloading dog...\")\n",
    "display(await image)"
   ]
  },
  {
   "cell_type": "code",
   "execution_count": 9,
   "metadata": {},
   "outputs": [
    {
     "data": {
      "text/plain": [
       "<__main__.Vow at 0x7f1bc3eadd90>"
      ]
     },
     "execution_count": 9,
     "metadata": {},
     "output_type": "execute_result"
    },
    {
     "data": {
      "text/html": [
       "<img src=\"https://images.dog.ceo/breeds/akita/512px-Akita_inu.jpeg\"/>"
      ],
      "text/plain": [
       "<IPython.core.display.Image object>"
      ]
     },
     "metadata": {},
     "output_type": "display_data"
    }
   ],
   "source": [
    "import asyncio\n",
    "import requests\n",
    "from IPython.display import Image \n",
    "\n",
    "def get_url(url):\n",
    "    loop = asyncio.get_running_loop()\n",
    "    return loop.run_in_executor(None, lambda: requests.get(url))\n",
    "\n",
    "def fetch_image(url):\n",
    "    return Image(url=url)\n",
    "\n",
    "class Vow:\n",
    "    def __init__(self, value=None):\n",
    "        self.value = value\n",
    "    def maybe_wrap(value):\n",
    "        if type(value) == Vow:\n",
    "            return value\n",
    "        return Vow(value)\n",
    "        \n",
    "    def flat_map(self, func):\n",
    "        loop = asyncio.get_running_loop()\n",
    "        if type(self.value) == Vow:\n",
    "            return self.value.flat_map(func)  \n",
    "        elif not asyncio.isfuture(self.value):\n",
    "            return Vow.maybe_wrap(func(self.value))\n",
    "        else:\n",
    "            new_future = loop.create_future()\n",
    "            self.value.add_done_callback(lambda _: new_future.set_result(Vow.maybe_wrap(self.value.result()).flat_map(func)))\n",
    "            return Vow(new_future)\n",
    "    def when(self, func):\n",
    "        return self.flat_map(func)\n",
    "\n",
    "    \n",
    "Vow(\"https://dog.ceo/api/breeds/image/random\") \\\n",
    "    .flat_map(get_url)\\\n",
    "    .flat_map(lambda response: Vow(response.json())) \\\n",
    "    .flat_map(lambda json: json[\"message\"]) \\\n",
    "    .flat_map(fetch_image).flat_map(display)"
   ]
  },
  {
   "cell_type": "code",
   "execution_count": 10,
   "metadata": {},
   "outputs": [
    {
     "data": {
      "text/plain": [
       "<__main__.Vow at 0x7f1bd854c310>"
      ]
     },
     "execution_count": 10,
     "metadata": {},
     "output_type": "execute_result"
    },
    {
     "data": {
      "text/html": [
       "<img src=\"https://images.dog.ceo/breeds/hound-english/n02089973_3160.jpg\"/>"
      ],
      "text/plain": [
       "<IPython.core.display.Image object>"
      ]
     },
     "metadata": {},
     "output_type": "display_data"
    }
   ],
   "source": [
    "Vow(\"https://dog.ceo/api/breeds/image/random\") \\\n",
    "    .when(get_url)\\\n",
    "    .when(lambda response: Vow(response.json())) \\\n",
    "    .when(lambda json: json[\"message\"]) \\\n",
    "    .when(fetch_image).flat_map(display)"
   ]
  }
 ],
 "metadata": {
  "kernelspec": {
   "display_name": "Python 3",
   "language": "python",
   "name": "python3"
  },
  "language_info": {
   "codemirror_mode": {
    "name": "ipython",
    "version": 3
   },
   "file_extension": ".py",
   "mimetype": "text/x-python",
   "name": "python",
   "nbconvert_exporter": "python",
   "pygments_lexer": "ipython3",
   "version": "3.7.6"
  }
 },
 "nbformat": 4,
 "nbformat_minor": 4
}
