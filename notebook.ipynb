{
 "cells": [
  {
   "cell_type": "markdown",
   "metadata": {},
   "source": [
    "# Functional Design Patterns\n",
    "In functional languages, most design patterns are surprisingly around functions.\n",
    "Although the obvious way was to show examples in functional notation, I chose object (dot) notation and used classes in Python for the extra challenge."
   ]
  },
  {
   "cell_type": "markdown",
   "metadata": {},
   "source": [
    "These examples were enspired by OSlash library, Douglas Crockford, Computerphile and MPJ's wonderful youtube channel \"Fun Fun Functions\""
   ]
  },
  {
   "cell_type": "markdown",
   "metadata": {},
   "source": [
    "## Functions as first class citizens\n",
    "In Functional languages, functions are first citizens. This means they are treated the same way like any other value. They can be assigned to variables, they can be passed as arguments and they can be created inside other functions as well."
   ]
  },
  {
   "cell_type": "code",
   "execution_count": 1,
   "metadata": {},
   "outputs": [
    {
     "name": "stdout",
     "output_type": "stream",
     "text": [
      "hello world\n"
     ]
    }
   ],
   "source": [
    "def foo():\n",
    "    return \"hello world\"\n",
    "\n",
    "bar = foo\n",
    "print(bar())"
   ]
  },
  {
   "cell_type": "markdown",
   "metadata": {},
   "source": [
    "## Higher order functions"
   ]
  },
  {
   "cell_type": "markdown",
   "metadata": {},
   "source": [
    "One of the great benefits of that is the ability to write higher order functions. These functions either get a function as a parameter or return a new function."
   ]
  },
  {
   "cell_type": "code",
   "execution_count": 2,
   "metadata": {},
   "outputs": [
    {
     "name": "stdout",
     "output_type": "stream",
     "text": [
      "4 22\n"
     ]
    }
   ],
   "source": [
    "def double_func(foo):\n",
    "    return lambda v: 2*foo(v)\n",
    "\n",
    "def plus1(v):\n",
    "    return v+1\n",
    "\n",
    "def plus10(v):\n",
    "    return v+10\n",
    "\n",
    "my_func1 = double_func(plus1)\n",
    "my_func2 = double_func(plus10)\n",
    "print(my_func1(1), my_func2(1))"
   ]
  },
  {
   "cell_type": "markdown",
   "metadata": {},
   "source": [
    "## Safe divider exmple"
   ]
  },
  {
   "cell_type": "code",
   "execution_count": 3,
   "metadata": {},
   "outputs": [],
   "source": [
    "class Div:\n",
    "    def __init__(self, value1, value2):\n",
    "        self.value1 = value1\n",
    "        self.value2 = value2\n",
    "    def evaluate(self):\n",
    "        e1 = self.value1.evaluate() if type(self.value1) == Div else self.value1\n",
    "        e2 = self.value2.evaluate() if type(self.value2) == Div else self.value2\n",
    "        \n",
    "        return e1//e2"
   ]
  },
  {
   "cell_type": "code",
   "execution_count": 4,
   "metadata": {},
   "outputs": [
    {
     "name": "stdout",
     "output_type": "stream",
     "text": [
      "5\n"
     ]
    }
   ],
   "source": [
    "print(Div(10,Div(4,Div(2,1))).evaluate())"
   ]
  },
  {
   "cell_type": "code",
   "execution_count": 5,
   "metadata": {},
   "outputs": [
    {
     "ename": "ZeroDivisionError",
     "evalue": "integer division or modulo by zero",
     "output_type": "error",
     "traceback": [
      "\u001b[0;31m---------------------------------------------------------------------------\u001b[0m",
      "\u001b[0;31mZeroDivisionError\u001b[0m                         Traceback (most recent call last)",
      "\u001b[0;32m<ipython-input-5-7db944e2c37a>\u001b[0m in \u001b[0;36m<module>\u001b[0;34m\u001b[0m\n\u001b[0;32m----> 1\u001b[0;31m \u001b[0mprint\u001b[0m\u001b[0;34m(\u001b[0m\u001b[0mDiv\u001b[0m\u001b[0;34m(\u001b[0m\u001b[0;36m10\u001b[0m\u001b[0;34m,\u001b[0m\u001b[0mDiv\u001b[0m\u001b[0;34m(\u001b[0m\u001b[0;36m4\u001b[0m\u001b[0;34m,\u001b[0m\u001b[0mDiv\u001b[0m\u001b[0;34m(\u001b[0m\u001b[0;36m2\u001b[0m\u001b[0;34m,\u001b[0m\u001b[0;36m0\u001b[0m\u001b[0;34m)\u001b[0m\u001b[0;34m)\u001b[0m\u001b[0;34m)\u001b[0m\u001b[0;34m.\u001b[0m\u001b[0mevaluate\u001b[0m\u001b[0;34m(\u001b[0m\u001b[0;34m)\u001b[0m\u001b[0;34m)\u001b[0m\u001b[0;34m\u001b[0m\u001b[0;34m\u001b[0m\u001b[0m\n\u001b[0m",
      "\u001b[0;32m<ipython-input-3-00e3068c9144>\u001b[0m in \u001b[0;36mevaluate\u001b[0;34m(self)\u001b[0m\n\u001b[1;32m      5\u001b[0m     \u001b[0;32mdef\u001b[0m \u001b[0mevaluate\u001b[0m\u001b[0;34m(\u001b[0m\u001b[0mself\u001b[0m\u001b[0;34m)\u001b[0m\u001b[0;34m:\u001b[0m\u001b[0;34m\u001b[0m\u001b[0;34m\u001b[0m\u001b[0m\n\u001b[1;32m      6\u001b[0m         \u001b[0me1\u001b[0m \u001b[0;34m=\u001b[0m \u001b[0mself\u001b[0m\u001b[0;34m.\u001b[0m\u001b[0mvalue1\u001b[0m\u001b[0;34m.\u001b[0m\u001b[0mevaluate\u001b[0m\u001b[0;34m(\u001b[0m\u001b[0;34m)\u001b[0m \u001b[0;32mif\u001b[0m \u001b[0mtype\u001b[0m\u001b[0;34m(\u001b[0m\u001b[0mself\u001b[0m\u001b[0;34m.\u001b[0m\u001b[0mvalue1\u001b[0m\u001b[0;34m)\u001b[0m \u001b[0;34m==\u001b[0m \u001b[0mDiv\u001b[0m \u001b[0;32melse\u001b[0m \u001b[0mself\u001b[0m\u001b[0;34m.\u001b[0m\u001b[0mvalue1\u001b[0m\u001b[0;34m\u001b[0m\u001b[0;34m\u001b[0m\u001b[0m\n\u001b[0;32m----> 7\u001b[0;31m         \u001b[0me2\u001b[0m \u001b[0;34m=\u001b[0m \u001b[0mself\u001b[0m\u001b[0;34m.\u001b[0m\u001b[0mvalue2\u001b[0m\u001b[0;34m.\u001b[0m\u001b[0mevaluate\u001b[0m\u001b[0;34m(\u001b[0m\u001b[0;34m)\u001b[0m \u001b[0;32mif\u001b[0m \u001b[0mtype\u001b[0m\u001b[0;34m(\u001b[0m\u001b[0mself\u001b[0m\u001b[0;34m.\u001b[0m\u001b[0mvalue2\u001b[0m\u001b[0;34m)\u001b[0m \u001b[0;34m==\u001b[0m \u001b[0mDiv\u001b[0m \u001b[0;32melse\u001b[0m \u001b[0mself\u001b[0m\u001b[0;34m.\u001b[0m\u001b[0mvalue2\u001b[0m\u001b[0;34m\u001b[0m\u001b[0;34m\u001b[0m\u001b[0m\n\u001b[0m\u001b[1;32m      8\u001b[0m \u001b[0;34m\u001b[0m\u001b[0m\n\u001b[1;32m      9\u001b[0m         \u001b[0;32mreturn\u001b[0m \u001b[0me1\u001b[0m\u001b[0;34m//\u001b[0m\u001b[0me2\u001b[0m\u001b[0;34m\u001b[0m\u001b[0;34m\u001b[0m\u001b[0m\n",
      "\u001b[0;32m<ipython-input-3-00e3068c9144>\u001b[0m in \u001b[0;36mevaluate\u001b[0;34m(self)\u001b[0m\n\u001b[1;32m      5\u001b[0m     \u001b[0;32mdef\u001b[0m \u001b[0mevaluate\u001b[0m\u001b[0;34m(\u001b[0m\u001b[0mself\u001b[0m\u001b[0;34m)\u001b[0m\u001b[0;34m:\u001b[0m\u001b[0;34m\u001b[0m\u001b[0;34m\u001b[0m\u001b[0m\n\u001b[1;32m      6\u001b[0m         \u001b[0me1\u001b[0m \u001b[0;34m=\u001b[0m \u001b[0mself\u001b[0m\u001b[0;34m.\u001b[0m\u001b[0mvalue1\u001b[0m\u001b[0;34m.\u001b[0m\u001b[0mevaluate\u001b[0m\u001b[0;34m(\u001b[0m\u001b[0;34m)\u001b[0m \u001b[0;32mif\u001b[0m \u001b[0mtype\u001b[0m\u001b[0;34m(\u001b[0m\u001b[0mself\u001b[0m\u001b[0;34m.\u001b[0m\u001b[0mvalue1\u001b[0m\u001b[0;34m)\u001b[0m \u001b[0;34m==\u001b[0m \u001b[0mDiv\u001b[0m \u001b[0;32melse\u001b[0m \u001b[0mself\u001b[0m\u001b[0;34m.\u001b[0m\u001b[0mvalue1\u001b[0m\u001b[0;34m\u001b[0m\u001b[0;34m\u001b[0m\u001b[0m\n\u001b[0;32m----> 7\u001b[0;31m         \u001b[0me2\u001b[0m \u001b[0;34m=\u001b[0m \u001b[0mself\u001b[0m\u001b[0;34m.\u001b[0m\u001b[0mvalue2\u001b[0m\u001b[0;34m.\u001b[0m\u001b[0mevaluate\u001b[0m\u001b[0;34m(\u001b[0m\u001b[0;34m)\u001b[0m \u001b[0;32mif\u001b[0m \u001b[0mtype\u001b[0m\u001b[0;34m(\u001b[0m\u001b[0mself\u001b[0m\u001b[0;34m.\u001b[0m\u001b[0mvalue2\u001b[0m\u001b[0;34m)\u001b[0m \u001b[0;34m==\u001b[0m \u001b[0mDiv\u001b[0m \u001b[0;32melse\u001b[0m \u001b[0mself\u001b[0m\u001b[0;34m.\u001b[0m\u001b[0mvalue2\u001b[0m\u001b[0;34m\u001b[0m\u001b[0;34m\u001b[0m\u001b[0m\n\u001b[0m\u001b[1;32m      8\u001b[0m \u001b[0;34m\u001b[0m\u001b[0m\n\u001b[1;32m      9\u001b[0m         \u001b[0;32mreturn\u001b[0m \u001b[0me1\u001b[0m\u001b[0;34m//\u001b[0m\u001b[0me2\u001b[0m\u001b[0;34m\u001b[0m\u001b[0;34m\u001b[0m\u001b[0m\n",
      "\u001b[0;32m<ipython-input-3-00e3068c9144>\u001b[0m in \u001b[0;36mevaluate\u001b[0;34m(self)\u001b[0m\n\u001b[1;32m      7\u001b[0m         \u001b[0me2\u001b[0m \u001b[0;34m=\u001b[0m \u001b[0mself\u001b[0m\u001b[0;34m.\u001b[0m\u001b[0mvalue2\u001b[0m\u001b[0;34m.\u001b[0m\u001b[0mevaluate\u001b[0m\u001b[0;34m(\u001b[0m\u001b[0;34m)\u001b[0m \u001b[0;32mif\u001b[0m \u001b[0mtype\u001b[0m\u001b[0;34m(\u001b[0m\u001b[0mself\u001b[0m\u001b[0;34m.\u001b[0m\u001b[0mvalue2\u001b[0m\u001b[0;34m)\u001b[0m \u001b[0;34m==\u001b[0m \u001b[0mDiv\u001b[0m \u001b[0;32melse\u001b[0m \u001b[0mself\u001b[0m\u001b[0;34m.\u001b[0m\u001b[0mvalue2\u001b[0m\u001b[0;34m\u001b[0m\u001b[0;34m\u001b[0m\u001b[0m\n\u001b[1;32m      8\u001b[0m \u001b[0;34m\u001b[0m\u001b[0m\n\u001b[0;32m----> 9\u001b[0;31m         \u001b[0;32mreturn\u001b[0m \u001b[0me1\u001b[0m\u001b[0;34m//\u001b[0m\u001b[0me2\u001b[0m\u001b[0;34m\u001b[0m\u001b[0;34m\u001b[0m\u001b[0m\n\u001b[0m",
      "\u001b[0;31mZeroDivisionError\u001b[0m: integer division or modulo by zero"
     ]
    }
   ],
   "source": [
    "print(Div(10,Div(4,Div(2,0))).evaluate())"
   ]
  },
  {
   "cell_type": "code",
   "execution_count": 6,
   "metadata": {},
   "outputs": [],
   "source": [
    "class SafeDiv:\n",
    "    def __init__(self, value1, value2=1):\n",
    "        self.value1 = value1\n",
    "        self.value2 = value2\n",
    "    \n",
    "    def div(self, v1, v2):\n",
    "        if v2 == 0:\n",
    "            print(\"division by zero\", self)\n",
    "            return None\n",
    "        return v1 // v2\n",
    "    \n",
    "    def evaluate(self):\n",
    "        e1 = self.value1.evaluate() if type(self.value1) == SafeDiv else self.value1\n",
    "        e2 = self.value2.evaluate() if type(self.value2) == SafeDiv else self.value2\n",
    "\n",
    "        if e1 == None or e2 == None:\n",
    "            return None\n",
    "        \n",
    "        return self.div(e1,e2)\n",
    "\n",
    "    def __str__(self):\n",
    "        return \"SafeDiv(%s, %s)\" % (self.value1, self.value2)"
   ]
  },
  {
   "cell_type": "code",
   "execution_count": 7,
   "metadata": {},
   "outputs": [
    {
     "name": "stdout",
     "output_type": "stream",
     "text": [
      "division by zero SafeDiv(SafeDiv(2, 1), 0)\n",
      "None\n"
     ]
    }
   ],
   "source": [
    "print(SafeDiv(10,SafeDiv(SafeDiv(2,1), 0)).evaluate())"
   ]
  },
  {
   "cell_type": "markdown",
   "metadata": {},
   "source": [
    "So much clutter - just because we wanted a safe version for division"
   ]
  },
  {
   "cell_type": "markdown",
   "metadata": {},
   "source": [
    "# At first there were values..."
   ]
  },
  {
   "cell_type": "code",
   "execution_count": 8,
   "metadata": {},
   "outputs": [
    {
     "name": "stdout",
     "output_type": "stream",
     "text": [
      "True\n"
     ]
    }
   ],
   "source": [
    "x = 3\n",
    "y = 3\n",
    "print(x == y)"
   ]
  },
  {
   "cell_type": "markdown",
   "metadata": {},
   "source": [
    "values are boring, so sometimes we want to have box."
   ]
  },
  {
   "cell_type": "code",
   "execution_count": 9,
   "metadata": {},
   "outputs": [
    {
     "name": "stdout",
     "output_type": "stream",
     "text": [
      "False\n"
     ]
    }
   ],
   "source": [
    "class Box:\n",
    "    def __init__(self, v):\n",
    "        self.value = v\n",
    "    def __str__(self):\n",
    "        print(\"Box(%s)\" % self.value)\n",
    "x = Box(3)\n",
    "y = Box(3)\n",
    "print(x == y)"
   ]
  },
  {
   "cell_type": "markdown",
   "metadata": {},
   "source": [
    "Boxes are contexts, they encapsulate the values."
   ]
  },
  {
   "cell_type": "markdown",
   "metadata": {},
   "source": [
    "# Lets talk about Arrays..."
   ]
  },
  {
   "cell_type": "code",
   "execution_count": 10,
   "metadata": {},
   "outputs": [
    {
     "name": "stdout",
     "output_type": "stream",
     "text": [
      "[1, 2, 3]\n",
      "[2, 4, 6]\n"
     ]
    }
   ],
   "source": [
    "class Array:\n",
    "    def __init__(self, *args):\n",
    "        self.values = [*args]\n",
    "    def map(self, func):\n",
    "        return Array(*list(map(func, self.values)))\n",
    "    def __str__(self):\n",
    "        return self.values.__str__()\n",
    "\n",
    "arr = Array(1,2,3)\n",
    "print(arr)\n",
    "arr2 = arr.map(lambda v: v*2)\n",
    "print(arr2)"
   ]
  },
  {
   "cell_type": "markdown",
   "metadata": {},
   "source": [
    "I've implemented a strange wrap on Python list type so the map method would be a method, instead of a global function.\n",
    "The difference between calling map(lambda, l) and arr.map(lambda) is the notation - first is functional and the other is methodical.\n",
    "\n",
    "This is just to be consice with the other examples.\n",
    "\n",
    "As you can see, Arrays simply compose values, and also have a map method.\n",
    "the map method receives a callback function, which will get one value at a time.\n",
    "\n",
    "Thus Arrays are Functors."
   ]
  },
  {
   "cell_type": "markdown",
   "metadata": {},
   "source": [
    "# Functors - Objects with a map function"
   ]
  },
  {
   "cell_type": "markdown",
   "metadata": {},
   "source": [
    "Functors are boxes with a \"map\" method. The idea behind them is that they encapsulate the value, and allows you via the map function access to those values, manipulate them and pack them in a Functor."
   ]
  },
  {
   "cell_type": "code",
   "execution_count": 11,
   "metadata": {},
   "outputs": [],
   "source": [
    "class Functor:\n",
    "    def __init__(self, value):\n",
    "        self.value = value\n",
    "    def map(self, func):\n",
    "        return Functor(func(self.value))\n",
    "    def __str__(self):\n",
    "        return \"Functor(%s)\" % self.value"
   ]
  },
  {
   "cell_type": "code",
   "execution_count": 12,
   "metadata": {},
   "outputs": [
    {
     "name": "stdout",
     "output_type": "stream",
     "text": [
      "Functor(5)\n",
      "Functor(10)\n"
     ]
    }
   ],
   "source": [
    "Five = Functor(5)\n",
    "print(Five)\n",
    "Ten = Five.map(lambda v: v*2)\n",
    "print(Ten)"
   ]
  },
  {
   "cell_type": "markdown",
   "metadata": {},
   "source": [
    "# Functors are very useful, we use them daily. But can we do better?\n",
    "\n",
    "For instance, what will happen if our callback function will return a Functor?"
   ]
  },
  {
   "cell_type": "code",
   "execution_count": 13,
   "metadata": {},
   "outputs": [
    {
     "name": "stdout",
     "output_type": "stream",
     "text": [
      "[<__main__.Array object at 0x7f4eec98ef40>, <__main__.Array object at 0x7f4eec98ebb0>, <__main__.Array object at 0x7f4eec98eb50>]\n",
      "Functor(Functor(10))\n"
     ]
    }
   ],
   "source": [
    "BadArray = arr.map(lambda v: Array(v,v))\n",
    "print(BadArray)\n",
    "BadTen = Five.map(lambda v: Functor(v*2))\n",
    "print(BadTen)"
   ]
  },
  {
   "cell_type": "markdown",
   "metadata": {},
   "source": [
    "This makes me :("
   ]
  },
  {
   "cell_type": "markdown",
   "metadata": {},
   "source": [
    "# Monads"
   ]
  },
  {
   "cell_type": "markdown",
   "metadata": {},
   "source": [
    "### The Monad Curse\n",
    "Once you understand monads, you become incapable of explaining what they are.\n",
    "\n",
    "### definitions\n",
    "1. In functional programming, a monad is a design pattern that allows structuring programs generically while automating away boilerplate code needed by the program logic - wikipedia\n",
    "\n",
    "2. A monad is a functor with a flat_map method.\n",
    "\n",
    "M - is a monad\n",
    "monad.flat_map(f) - is a higher order function that returns a monad. _f_ is a function that returns a monad."
   ]
  },
  {
   "cell_type": "markdown",
   "metadata": {},
   "source": [
    "Python have the OSlash library with implementations of various monads. One of these monads is the Either monad which can help us manage error handling. It has a shortcut to the flat_map method using the pipe (|) operator"
   ]
  },
  {
   "cell_type": "code",
   "execution_count": 14,
   "metadata": {},
   "outputs": [
    {
     "name": "stdout",
     "output_type": "stream",
     "text": [
      "Right 5\n",
      "Left (division by zero) EitherDiv(EitherDiv(2, 1), 0)\n"
     ]
    }
   ],
   "source": [
    "from oslash import Right, Left\n",
    "\n",
    "\n",
    "class EitherDiv:\n",
    "    def __init__(self, value1, value2=1):\n",
    "        self.value1 = value1\n",
    "        self.value2 = value2\n",
    "    \n",
    "    def div(self, v1, v2):\n",
    "        if(v2 == 0):\n",
    "            return Left(\"(division by zero) %s\" % self)\n",
    "        return Right(v1 // v2)\n",
    "    \n",
    "    def evaluate(self):\n",
    "        right_v1 = self.value1.evaluate() if type(self.value1) == EitherDiv else Right(self.value1)\n",
    "        right_v2 = self.value2.evaluate() if type(self.value2) == EitherDiv else Right(self.value2)\n",
    "        \n",
    "        return right_v1 | (lambda v1: right_v2 | (lambda v2: self.div(v1,v2)))\n",
    "        \n",
    "    def __str__(self):\n",
    "        return \"EitherDiv(%s, %s)\" % (self.value1, self.value2)\n",
    "    \n",
    "\n",
    "print(EitherDiv(10,EitherDiv(EitherDiv(2,1), 1)).evaluate())\n",
    "print(EitherDiv(10,EitherDiv(EitherDiv(2,1), 0)).evaluate())"
   ]
  },
  {
   "cell_type": "markdown",
   "metadata": {},
   "source": [
    "## Async Image fetching\n",
    "Lets see the following code: It uses dog.ceo API to get random pictures of dogs. "
   ]
  },
  {
   "cell_type": "code",
   "execution_count": 15,
   "metadata": {},
   "outputs": [
    {
     "name": "stdout",
     "output_type": "stream",
     "text": [
      "requesting https://dog.ceo/api/breeds/image/random\n",
      "generating image https://images.dog.ceo/breeds/pointer-german/n02100236_4235.jpg\n"
     ]
    },
    {
     "data": {
      "text/html": [
       "<img src=\"https://images.dog.ceo/breeds/pointer-german/n02100236_4235.jpg\"/>"
      ],
      "text/plain": [
       "<IPython.core.display.Image object>"
      ]
     },
     "metadata": {},
     "output_type": "display_data"
    },
    {
     "name": "stdout",
     "output_type": "stream",
     "text": [
      "requesting https://dog.ceo/api/breeds/image/random\n",
      "generating image https://images.dog.ceo/breeds/terrier-kerryblue/n02093859_248.jpg\n"
     ]
    },
    {
     "data": {
      "text/html": [
       "<img src=\"https://images.dog.ceo/breeds/terrier-kerryblue/n02093859_248.jpg\"/>"
      ],
      "text/plain": [
       "<IPython.core.display.Image object>"
      ]
     },
     "metadata": {},
     "output_type": "display_data"
    }
   ],
   "source": [
    "import requests\n",
    "from IPython.display import Image \n",
    "\n",
    "def get_url(url):\n",
    "    print(\"requesting %s\" % url)\n",
    "    return requests.get(url)\n",
    "\n",
    "def fetch_image(url):\n",
    "    print(\"generating image %s\" % url)\n",
    "    return Image(url=url)\n",
    "\n",
    "href = get_url(\"https://dog.ceo/api/breeds/image/random\").json()[\"message\"]\n",
    "image = fetch_image(href)\n",
    "display(image)\n",
    "\n",
    "href = get_url(\"https://dog.ceo/api/breeds/image/random\").json()[\"message\"]\n",
    "image = fetch_image(href)\n",
    "display(image)\n",
    "    \n"
   ]
  },
  {
   "cell_type": "markdown",
   "metadata": {},
   "source": [
    "### I've decided to use asyncio Futures in Python. "
   ]
  },
  {
   "cell_type": "code",
   "execution_count": 16,
   "metadata": {},
   "outputs": [
    {
     "name": "stdout",
     "output_type": "stream",
     "text": [
      "requesting https://dog.ceo/api/breeds/image/random\n",
      "waiting for random dog...\n",
      "requesting https://dog.ceo/api/breeds/image/randomwaiting for random dog...\n",
      "\n",
      "generating image https://images.dog.ceo/breeds/airedale/n02096051_2353.jpg\n"
     ]
    },
    {
     "data": {
      "text/html": [
       "<img src=\"https://images.dog.ceo/breeds/airedale/n02096051_2353.jpg\"/>"
      ],
      "text/plain": [
       "<IPython.core.display.Image object>"
      ]
     },
     "metadata": {},
     "output_type": "display_data"
    },
    {
     "name": "stdout",
     "output_type": "stream",
     "text": [
      "generating image https://images.dog.ceo/breeds/sheepdog-shetland/n02105855_10095.jpg\n"
     ]
    },
    {
     "data": {
      "text/html": [
       "<img src=\"https://images.dog.ceo/breeds/sheepdog-shetland/n02105855_10095.jpg\"/>"
      ],
      "text/plain": [
       "<IPython.core.display.Image object>"
      ]
     },
     "metadata": {},
     "output_type": "display_data"
    }
   ],
   "source": [
    "import asyncio\n",
    "import requests\n",
    "from IPython.display import Image \n",
    "\n",
    "def get_url(url):\n",
    "    print(\"requesting %s\" % url)\n",
    "    return requests.get(url)\n",
    "\n",
    "def fetch_image(url):\n",
    "    print(\"generating image %s\" % url)\n",
    "    return Image(url=url)\n",
    "\n",
    "def random_dog_callback(result_future):\n",
    "    url = result_future.result().json()[\"message\"]\n",
    "    fututre_image = loop.run_in_executor(None, fetch_image, url)\n",
    "    fututre_image.add_done_callback(lambda img: display(img.result()))\n",
    "\n",
    "loop = asyncio.get_running_loop()\n",
    "future_result = loop.run_in_executor(None, get_url, \"https://dog.ceo/api/breeds/image/random\")\n",
    "print(\"waiting for random dog...\")\n",
    "future_result.add_done_callback(random_dog_callback)\n",
    "\n",
    "future_result = loop.run_in_executor(None, get_url, \"https://dog.ceo/api/breeds/image/random\")\n",
    "print(\"waiting for random dog...\")\n",
    "future_result.add_done_callback(random_dog_callback)\n"
   ]
  },
  {
   "cell_type": "markdown",
   "metadata": {},
   "source": [
    "## The Future doesn't look bright\n",
    "Futures in Python don't have a very simple API, and working with asyncio Event Loop in python is no fun either. This code is not reusable, and has a lot of clutter just to get an image asyncronously. \n",
    "\n",
    "If we need to do it many times in our code base, in this constilation we will have to pad our code with get_running_loops and run_in_executor, and we also have a potential for callback hells."
   ]
  },
  {
   "cell_type": "markdown",
   "metadata": {},
   "source": [
    "We can write a Functor that will encapsulate the clutter, but our callbacks can be asyncronous as well. But, we can use the Monad Design Pattern."
   ]
  },
  {
   "cell_type": "markdown",
   "metadata": {},
   "source": [
    "## I promise you things will get better now...\n",
    "\n",
    "Vows wrap the Future objects but simplifies its API while also hiding the over head of the asyncio Event Loop API. Lets implement that"
   ]
  },
  {
   "cell_type": "code",
   "execution_count": 17,
   "metadata": {},
   "outputs": [],
   "source": [
    "loop = asyncio.get_running_loop()\n",
    "\n",
    "def defer(func, delay=0):\n",
    "    \"\"\"\n",
    "    runs func in event loop after `delay` of seconds\n",
    "    returns a Vow\n",
    "    \"\"\"\n",
    "    global loop\n",
    "    #if delay == 0:\n",
    "    #    return Vow(loop.run_in_executor(None, func))\n",
    "    \n",
    "    future = create_future()\n",
    "    loop.call_later(delay, lambda: future.set_result(func()))\n",
    "    return Vow(future)\n",
    "\n",
    "\n",
    "def defer_func(func, delay=0):\n",
    "    \"\"\"\n",
    "    returns a function that when executed will defer `func` after `delay` seconds\n",
    "    \"\"\"\n",
    "    return lambda *args: defer(lambda: func(*args), delay)\n",
    "\n",
    "def create_future():\n",
    "    \"\"\"\n",
    "    creates a future and returns it\n",
    "    \"\"\"\n",
    "    global loop\n",
    "    return loop.create_future()\n",
    "\n",
    "\n",
    "class Vow:\n",
    "    def __init__(self, future):\n",
    "        \"\"\"\n",
    "        wraps a future into a vow\n",
    "        \"\"\"\n",
    "        if not asyncio.isfuture(future):\n",
    "            raise Exception(\"Can't wrap non-futures\")\n",
    "        self.future = future\n",
    "    \n",
    "    def map(self, func):\n",
    "        \"\"\"\n",
    "        runs `func` on the future result and returns a new vow with the result\n",
    "        \"\"\"\n",
    "        new_future = create_future()\n",
    "        self.future.add_done_callback(lambda _: new_future.set_result(func(self.future.result())))\n",
    "        return self.__class__(new_future)\n",
    "    \n",
    "    def flat_map(self, func):\n",
    "        \"\"\"\n",
    "        runs `func` on the future result and flatten it.\n",
    "        returns flatten value is a Vow\n",
    "        \"\"\"\n",
    "        new_future = create_future()\n",
    "        self.future.add_done_callback(lambda _: func(self.future.result()).map(new_future.set_result))\n",
    "        return self.__class__(new_future)\n",
    "               \n",
    "    def __str__(self):\n",
    "        return (\"VOW(%s)\" % self.future)\n",
    "    \n",
    "    @classmethod\n",
    "    def resolve(cls, value):\n",
    "        \"\"\"\n",
    "        returns a resolved vow with `value`\n",
    "        \"\"\"\n",
    "        if asyncio.isfuture(value):\n",
    "            return cls(value)\n",
    "        \n",
    "        future = create_future()\n",
    "        future.set_result(value)\n",
    "        return cls(future)\n",
    "    \n",
    "    def when(self, func):\n",
    "        \"\"\"\n",
    "        runs func on value - if it is a vow, it will flatten.\n",
    "        the result is wrapped in a new vow.\n",
    "        \"\"\"\n",
    "        def smart_map(_):\n",
    "            result = func(self.future.result())\n",
    "            if type(result) == Vow:\n",
    "                result.map(new_future.set_result)\n",
    "            else:\n",
    "                new_future.set_result(result)\n",
    "                \n",
    "        new_future = create_future()\n",
    "        self.future.add_done_callback(defer_func(smart_map))\n",
    "        return self.__class__(new_future)\n",
    "        \n",
    "        \n",
    "\n"
   ]
  },
  {
   "cell_type": "code",
   "execution_count": 18,
   "metadata": {},
   "outputs": [
    {
     "name": "stdout",
     "output_type": "stream",
     "text": [
      "\n",
      "requesting https://dog.ceo/api/breeds/image/random\n",
      "generating image https://images.dog.ceo/breeds/terrier-wheaten/n02098105_1419.jpg\n"
     ]
    },
    {
     "data": {
      "text/html": [
       "<img src=\"https://images.dog.ceo/breeds/terrier-wheaten/n02098105_1419.jpg\"/>"
      ],
      "text/plain": [
       "<IPython.core.display.Image object>"
      ]
     },
     "metadata": {},
     "output_type": "display_data"
    }
   ],
   "source": [
    "\n",
    "\n",
    "\n",
    "Vow.resolve(\"https://dog.ceo/api/breeds/image/random\") \\\n",
    "    .flat_map(defer_func(get_url)) \\\n",
    "    .flat_map(lambda response: defer(response.json)) \\\n",
    "    .map(lambda json: json[\"message\"]) \\\n",
    "    .flat_map(defer_func(fetch_image)) \\\n",
    "    .map(display)\n",
    "\n",
    "print(\"\")"
   ]
  },
  {
   "cell_type": "markdown",
   "metadata": {},
   "source": [
    "### We can do better"
   ]
  },
  {
   "cell_type": "code",
   "execution_count": 19,
   "metadata": {},
   "outputs": [
    {
     "name": "stdout",
     "output_type": "stream",
     "text": [
      "\n",
      "requesting https://dog.ceo/api/breeds/image/random\n",
      "requesting https://dog.ceo/api/breeds/image/random\n",
      "generating image https://images.dog.ceo/breeds/spaniel-sussex/n02102480_576.jpg\n",
      "generating image https://images.dog.ceo/breeds/terrier-westhighland/n02098286_238.jpg\n"
     ]
    },
    {
     "data": {
      "text/html": [
       "<img src=\"https://images.dog.ceo/breeds/spaniel-sussex/n02102480_576.jpg\"/>"
      ],
      "text/plain": [
       "<IPython.core.display.Image object>"
      ]
     },
     "metadata": {},
     "output_type": "display_data"
    },
    {
     "data": {
      "text/html": [
       "<img src=\"https://images.dog.ceo/breeds/terrier-westhighland/n02098286_238.jpg\"/>"
      ],
      "text/plain": [
       "<IPython.core.display.Image object>"
      ]
     },
     "metadata": {},
     "output_type": "display_data"
    }
   ],
   "source": [
    "randoms = [Vow.resolve(\"https://dog.ceo/api/breeds/image/random\"), Vow.resolve(\"https://dog.ceo/api/breeds/image/random\")]\n",
    "for r in randoms:\n",
    "    r.when(get_url)\\\n",
    "    .when(lambda response: response.json()) \\\n",
    "    .when(lambda json: json[\"message\"]) \\\n",
    "    .when(fetch_image) \\\n",
    "    .when(defer_func(lambda x:x, 2)) \\\n",
    "    .when(display)\n",
    "print(\"\")"
   ]
  },
  {
   "cell_type": "code",
   "execution_count": 21,
   "metadata": {},
   "outputs": [],
   "source": [
    "def whened(func):\n",
    "    def whened_func(self):\n",
    "        result = self.when(lambda v: func(self, v))\n",
    "        return result\n",
    "    return whened_func\n",
    "\n",
    "class ImageFetcher(Vow):\n",
    "    @whened\n",
    "    def get_url(self, url):\n",
    "        print(\"requesting %s\" % url)\n",
    "        return requests.get(url)\n",
    "    \n",
    "    @whened\n",
    "    def extract_image_url(self, response):\n",
    "        json = response.json()\n",
    "        return json[\"message\"]\n",
    "\n",
    "    @whened\n",
    "    def fetch_image(self, url):\n",
    "        print(\"generating image %s\" % url)\n",
    "        return Image(url=url)\n",
    "    \n",
    "    @whened\n",
    "    def display(self, img):\n",
    "        display(img)\n",
    "    \n",
    "        \n"
   ]
  },
  {
   "cell_type": "code",
   "execution_count": 22,
   "metadata": {},
   "outputs": [
    {
     "name": "stdout",
     "output_type": "stream",
     "text": [
      "\n",
      "requesting https://dog.ceo/api/breeds/image/random\n",
      "requesting https://dog.ceo/api/breeds/image/random\n",
      "requesting https://dog.ceo/api/breeds/image/random\n",
      "generating image https://images.dog.ceo/breeds/chow/n02112137_4760.jpg\n",
      "generating image https://images.dog.ceo/breeds/terrier-dandie/n02096437_2055.jpg\n",
      "generating image https://images.dog.ceo/breeds/poodle-toy/n02113624_2609.jpg\n"
     ]
    },
    {
     "data": {
      "text/html": [
       "<img src=\"https://images.dog.ceo/breeds/chow/n02112137_4760.jpg\"/>"
      ],
      "text/plain": [
       "<IPython.core.display.Image object>"
      ]
     },
     "metadata": {},
     "output_type": "display_data"
    },
    {
     "data": {
      "text/html": [
       "<img src=\"https://images.dog.ceo/breeds/terrier-dandie/n02096437_2055.jpg\"/>"
      ],
      "text/plain": [
       "<IPython.core.display.Image object>"
      ]
     },
     "metadata": {},
     "output_type": "display_data"
    },
    {
     "data": {
      "text/html": [
       "<img src=\"https://images.dog.ceo/breeds/poodle-toy/n02113624_2609.jpg\"/>"
      ],
      "text/plain": [
       "<IPython.core.display.Image object>"
      ]
     },
     "metadata": {},
     "output_type": "display_data"
    }
   ],
   "source": [
    "images = [ \n",
    "    ImageFetcher.resolve(\"https://dog.ceo/api/breeds/image/random\"),\n",
    "    ImageFetcher.resolve(\"https://dog.ceo/api/breeds/image/random\"),\n",
    "    ImageFetcher.resolve(\"https://dog.ceo/api/breeds/image/random\")\n",
    "]\n",
    "\n",
    "for image in images:\n",
    "    image.get_url().extract_image_url().fetch_image().display()\n",
    "print(\"\")"
   ]
  }
 ],
 "metadata": {
  "kernelspec": {
   "display_name": "Python 3",
   "language": "python",
   "name": "python3"
  },
  "language_info": {
   "codemirror_mode": {
    "name": "ipython",
    "version": 3
   },
   "file_extension": ".py",
   "mimetype": "text/x-python",
   "name": "python",
   "nbconvert_exporter": "python",
   "pygments_lexer": "ipython3",
   "version": "3.8.2"
  }
 },
 "nbformat": 4,
 "nbformat_minor": 4
}
