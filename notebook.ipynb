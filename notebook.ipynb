{
 "cells": [
  {
   "cell_type": "markdown",
   "metadata": {},
   "source": [
    "# Functional Design Patterns\n",
    "In functional languages, most design patterns are surprisingly around functions.\n",
    "Although the obvious way was to show examples in functional notation, I chose object (dot) notation and used classes in Python for the extra challenge."
   ]
  },
  {
   "cell_type": "markdown",
   "metadata": {},
   "source": [
    "These examples were enspired by OSlash library, Douglas Crockford, Computerphile and MPJ's wonderful youtube channel \"Fun Fun Functions\""
   ]
  },
  {
   "cell_type": "code",
   "execution_count": 4,
   "metadata": {},
   "outputs": [],
   "source": [
    "class Div:\n",
    "    def __init__(self, value1, value2):\n",
    "        self.value1 = value1\n",
    "        self.value2 = value2\n",
    "    def evaluate(self):\n",
    "        iftype(self.value1) == Div:\n",
    "            e1 = self.value1.evaluate()\n",
    "        else:\n",
    "            e1 = self.value1\n",
    "        if type(self.value2) == Div:\n",
    "            e2 = self.value2.evaluate()\n",
    "        else:\n",
    "            e2 = self.value2\n",
    "        return e1//e2"
   ]
  },
  {
   "cell_type": "code",
   "execution_count": 14,
   "metadata": {},
   "outputs": [
    {
     "name": "stdout",
     "output_type": "stream",
     "text": [
      "5\n"
     ]
    }
   ],
   "source": [
    "print(Div(10,Div(4,Div(2,1))).evaluate())"
   ]
  },
  {
   "cell_type": "code",
   "execution_count": 15,
   "metadata": {},
   "outputs": [
    {
     "ename": "ZeroDivisionError",
     "evalue": "integer division or modulo by zero",
     "output_type": "error",
     "traceback": [
      "\u001b[0;31m---------------------------------------------------------------------------\u001b[0m",
      "\u001b[0;31mZeroDivisionError\u001b[0m                         Traceback (most recent call last)",
      "\u001b[0;32m<ipython-input-15-7db944e2c37a>\u001b[0m in \u001b[0;36m<module>\u001b[0;34m\u001b[0m\n\u001b[0;32m----> 1\u001b[0;31m \u001b[0mprint\u001b[0m\u001b[0;34m(\u001b[0m\u001b[0mDiv\u001b[0m\u001b[0;34m(\u001b[0m\u001b[0;36m10\u001b[0m\u001b[0;34m,\u001b[0m\u001b[0mDiv\u001b[0m\u001b[0;34m(\u001b[0m\u001b[0;36m4\u001b[0m\u001b[0;34m,\u001b[0m\u001b[0mDiv\u001b[0m\u001b[0;34m(\u001b[0m\u001b[0;36m2\u001b[0m\u001b[0;34m,\u001b[0m\u001b[0;36m0\u001b[0m\u001b[0;34m)\u001b[0m\u001b[0;34m)\u001b[0m\u001b[0;34m)\u001b[0m\u001b[0;34m.\u001b[0m\u001b[0mevaluate\u001b[0m\u001b[0;34m(\u001b[0m\u001b[0;34m)\u001b[0m\u001b[0;34m)\u001b[0m\u001b[0;34m\u001b[0m\u001b[0;34m\u001b[0m\u001b[0m\n\u001b[0m",
      "\u001b[0;32m<ipython-input-4-079450a2aa4f>\u001b[0m in \u001b[0;36mevaluate\u001b[0;34m(self)\u001b[0m\n\u001b[1;32m      9\u001b[0m             \u001b[0me1\u001b[0m \u001b[0;34m=\u001b[0m \u001b[0mself\u001b[0m\u001b[0;34m.\u001b[0m\u001b[0mvalue1\u001b[0m\u001b[0;34m\u001b[0m\u001b[0;34m\u001b[0m\u001b[0m\n\u001b[1;32m     10\u001b[0m         \u001b[0;32mif\u001b[0m\u001b[0;34m(\u001b[0m\u001b[0mtype\u001b[0m\u001b[0;34m(\u001b[0m\u001b[0mself\u001b[0m\u001b[0;34m.\u001b[0m\u001b[0mvalue2\u001b[0m\u001b[0;34m)\u001b[0m \u001b[0;34m==\u001b[0m \u001b[0mDiv\u001b[0m \u001b[0;34m)\u001b[0m\u001b[0;34m:\u001b[0m\u001b[0;34m\u001b[0m\u001b[0;34m\u001b[0m\u001b[0m\n\u001b[0;32m---> 11\u001b[0;31m             \u001b[0me2\u001b[0m \u001b[0;34m=\u001b[0m \u001b[0mself\u001b[0m\u001b[0;34m.\u001b[0m\u001b[0mvalue2\u001b[0m\u001b[0;34m.\u001b[0m\u001b[0mevaluate\u001b[0m\u001b[0;34m(\u001b[0m\u001b[0;34m)\u001b[0m\u001b[0;34m\u001b[0m\u001b[0;34m\u001b[0m\u001b[0m\n\u001b[0m\u001b[1;32m     12\u001b[0m         \u001b[0;32melse\u001b[0m\u001b[0;34m:\u001b[0m\u001b[0;34m\u001b[0m\u001b[0;34m\u001b[0m\u001b[0m\n\u001b[1;32m     13\u001b[0m             \u001b[0me2\u001b[0m \u001b[0;34m=\u001b[0m \u001b[0mself\u001b[0m\u001b[0;34m.\u001b[0m\u001b[0mvalue2\u001b[0m\u001b[0;34m\u001b[0m\u001b[0;34m\u001b[0m\u001b[0m\n",
      "\u001b[0;32m<ipython-input-4-079450a2aa4f>\u001b[0m in \u001b[0;36mevaluate\u001b[0;34m(self)\u001b[0m\n\u001b[1;32m      9\u001b[0m             \u001b[0me1\u001b[0m \u001b[0;34m=\u001b[0m \u001b[0mself\u001b[0m\u001b[0;34m.\u001b[0m\u001b[0mvalue1\u001b[0m\u001b[0;34m\u001b[0m\u001b[0;34m\u001b[0m\u001b[0m\n\u001b[1;32m     10\u001b[0m         \u001b[0;32mif\u001b[0m\u001b[0;34m(\u001b[0m\u001b[0mtype\u001b[0m\u001b[0;34m(\u001b[0m\u001b[0mself\u001b[0m\u001b[0;34m.\u001b[0m\u001b[0mvalue2\u001b[0m\u001b[0;34m)\u001b[0m \u001b[0;34m==\u001b[0m \u001b[0mDiv\u001b[0m \u001b[0;34m)\u001b[0m\u001b[0;34m:\u001b[0m\u001b[0;34m\u001b[0m\u001b[0;34m\u001b[0m\u001b[0m\n\u001b[0;32m---> 11\u001b[0;31m             \u001b[0me2\u001b[0m \u001b[0;34m=\u001b[0m \u001b[0mself\u001b[0m\u001b[0;34m.\u001b[0m\u001b[0mvalue2\u001b[0m\u001b[0;34m.\u001b[0m\u001b[0mevaluate\u001b[0m\u001b[0;34m(\u001b[0m\u001b[0;34m)\u001b[0m\u001b[0;34m\u001b[0m\u001b[0;34m\u001b[0m\u001b[0m\n\u001b[0m\u001b[1;32m     12\u001b[0m         \u001b[0;32melse\u001b[0m\u001b[0;34m:\u001b[0m\u001b[0;34m\u001b[0m\u001b[0;34m\u001b[0m\u001b[0m\n\u001b[1;32m     13\u001b[0m             \u001b[0me2\u001b[0m \u001b[0;34m=\u001b[0m \u001b[0mself\u001b[0m\u001b[0;34m.\u001b[0m\u001b[0mvalue2\u001b[0m\u001b[0;34m\u001b[0m\u001b[0;34m\u001b[0m\u001b[0m\n",
      "\u001b[0;32m<ipython-input-4-079450a2aa4f>\u001b[0m in \u001b[0;36mevaluate\u001b[0;34m(self)\u001b[0m\n\u001b[1;32m     12\u001b[0m         \u001b[0;32melse\u001b[0m\u001b[0;34m:\u001b[0m\u001b[0;34m\u001b[0m\u001b[0;34m\u001b[0m\u001b[0m\n\u001b[1;32m     13\u001b[0m             \u001b[0me2\u001b[0m \u001b[0;34m=\u001b[0m \u001b[0mself\u001b[0m\u001b[0;34m.\u001b[0m\u001b[0mvalue2\u001b[0m\u001b[0;34m\u001b[0m\u001b[0;34m\u001b[0m\u001b[0m\n\u001b[0;32m---> 14\u001b[0;31m         \u001b[0;32mreturn\u001b[0m \u001b[0me1\u001b[0m\u001b[0;34m//\u001b[0m\u001b[0me2\u001b[0m\u001b[0;34m\u001b[0m\u001b[0;34m\u001b[0m\u001b[0m\n\u001b[0m",
      "\u001b[0;31mZeroDivisionError\u001b[0m: integer division or modulo by zero"
     ]
    }
   ],
   "source": [
    "print(Div(10,Div(4,Div(2,0))).evaluate())"
   ]
  },
  {
   "cell_type": "code",
   "execution_count": 22,
   "metadata": {},
   "outputs": [],
   "source": [
    "class SafeDiv:\n",
    "    def __init__(self, value1, value2):\n",
    "        self.value1 = value1\n",
    "        self.value2 = value2\n",
    "    def evaluate(self):\n",
    "        if type(self.value1) == SafeDiv :\n",
    "            try:\n",
    "                e1 = self.value1.evaluate()\n",
    "            except:\n",
    "                print(\"Left operand evaluation failed %s\" % self.value1)\n",
    "                return None\n",
    "        else:\n",
    "            e1 = self.value1\n",
    "        if(type(self.value2) == SafeDiv ):\n",
    "            try:\n",
    "                e2 = self.value2.evaluate()\n",
    "            except:\n",
    "                print(\"Right operand evaluation failed %s\" % self.value2)\n",
    "                return None\n",
    "        else:\n",
    "            e2 = self.value2\n",
    "        if e1 == None or e2 == None:\n",
    "            return None\n",
    "        try:\n",
    "            return e1//e2\n",
    "        except:\n",
    "            return None\n",
    "    def __str__(self):\n",
    "        return \"SafeDiv(%s, %s)\" % (self.value1, self.value2)"
   ]
  },
  {
   "cell_type": "code",
   "execution_count": 25,
   "metadata": {},
   "outputs": [
    {
     "name": "stdout",
     "output_type": "stream",
     "text": [
      "Right operand evaluation failed SafeDiv(SafeDiv(2, 1), 0)\n",
      "None\n"
     ]
    }
   ],
   "source": [
    "print(SafeDiv(10,SafeDiv(SafeDiv(2,1), 0)).evaluate())"
   ]
  },
  {
   "cell_type": "markdown",
   "metadata": {},
   "source": [
    "So much clutter - just because we wanted a safe version for division"
   ]
  },
  {
   "cell_type": "markdown",
   "metadata": {},
   "source": [
    "# At first there were values..."
   ]
  },
  {
   "cell_type": "code",
   "execution_count": 43,
   "metadata": {},
   "outputs": [
    {
     "name": "stdout",
     "output_type": "stream",
     "text": [
      "True\n"
     ]
    }
   ],
   "source": [
    "x = 3\n",
    "y = 3\n",
    "print(x == y)"
   ]
  },
  {
   "cell_type": "markdown",
   "metadata": {},
   "source": [
    "values are boring, so sometimes we want to have box."
   ]
  },
  {
   "cell_type": "code",
   "execution_count": 44,
   "metadata": {},
   "outputs": [
    {
     "name": "stdout",
     "output_type": "stream",
     "text": [
      "False\n"
     ]
    }
   ],
   "source": [
    "class Box:\n",
    "    def __init__(self, v):\n",
    "        self.value = v\n",
    "    def __str__(self):\n",
    "        print(\"Box(%s)\" % self.value)\n",
    "x = Box(3)\n",
    "y = Box(3)\n",
    "print(x == y)"
   ]
  },
  {
   "cell_type": "markdown",
   "metadata": {},
   "source": [
    "Boxes are contexts, they encapsulate the values."
   ]
  },
  {
   "cell_type": "markdown",
   "metadata": {},
   "source": [
    "# Lets talk about Arrays..."
   ]
  },
  {
   "cell_type": "code",
   "execution_count": 45,
   "metadata": {},
   "outputs": [
    {
     "name": "stdout",
     "output_type": "stream",
     "text": [
      "[1, 2, 3]\n",
      "[2, 4, 6]\n"
     ]
    }
   ],
   "source": [
    "class Array:\n",
    "    def __init__(self, *args):\n",
    "        self.values = [*args]\n",
    "    def map(self, func):\n",
    "        return Array(*list(map(func, self.values)))\n",
    "    def __str__(self):\n",
    "        return self.values.__str__()\n",
    "\n",
    "arr = Array(1,2,3)\n",
    "print(arr)\n",
    "arr2 = arr.map(lambda v: v*2)\n",
    "print(arr2)"
   ]
  },
  {
   "cell_type": "markdown",
   "metadata": {},
   "source": [
    "I've implemented a strange wrap on Python list type so the map method would be a method, instead of a global function.\n",
    "The difference between calling map(lambda, l) and arr.map(lambda) is the notation - first is functional and the other is methodical.\n",
    "\n",
    "This is just to be consice with the other examples.\n",
    "\n",
    "As you can see, Arrays simply compose values, and also have a map method.\n",
    "the map method receives a callback function, which will get one value at a time.\n",
    "\n",
    "Thus Arrays are Functors."
   ]
  },
  {
   "cell_type": "markdown",
   "metadata": {},
   "source": [
    "# Functors - Objects with a map function"
   ]
  },
  {
   "cell_type": "markdown",
   "metadata": {},
   "source": [
    "Functors are boxes with a \"map\" method. The idea behind them is that they encapsulate the value, and allows you via the map function access to those values, manipulate them and pack them in a Functor."
   ]
  },
  {
   "cell_type": "code",
   "execution_count": 46,
   "metadata": {},
   "outputs": [],
   "source": [
    "class Functor:\n",
    "    def __init__(self, value):\n",
    "        self.value = value\n",
    "    def map(self, func):\n",
    "        return Functor(func(self.value))\n",
    "    def __str__(self):\n",
    "        return \"Functor(%s)\" % self.value"
   ]
  },
  {
   "cell_type": "code",
   "execution_count": 47,
   "metadata": {},
   "outputs": [
    {
     "name": "stdout",
     "output_type": "stream",
     "text": [
      "Functor(5)\n",
      "Functor(10)\n"
     ]
    }
   ],
   "source": [
    "Five = Functor(5)\n",
    "print(Five)\n",
    "Ten = Five.map(lambda v: v*2)\n",
    "print(Ten)"
   ]
  },
  {
   "cell_type": "markdown",
   "metadata": {},
   "source": [
    "# Functors are very useful, we use them daily. But can we do better?\n",
    "\n",
    "For instance, what will happen if our callback function will return a Functor?"
   ]
  },
  {
   "cell_type": "code",
   "execution_count": 48,
   "metadata": {},
   "outputs": [
    {
     "name": "stdout",
     "output_type": "stream",
     "text": [
      "Functor(Functor(10))\n"
     ]
    }
   ],
   "source": [
    "BadTen = Five.map(lambda v: Functor(v*2))\n",
    "print(BadTen)"
   ]
  },
  {
   "cell_type": "markdown",
   "metadata": {},
   "source": [
    "This makes me :("
   ]
  },
  {
   "cell_type": "markdown",
   "metadata": {},
   "source": [
    "# Monad - Objects with flat_map function\n",
    "\n",
    "Lets see the following code: It uses dog.ceo API to get random pictures of dogs. I've decided to use asyncio Futures in Python. "
   ]
  },
  {
   "cell_type": "code",
   "execution_count": 49,
   "metadata": {},
   "outputs": [
    {
     "name": "stdout",
     "output_type": "stream",
     "text": [
      "waiting for random dog...requesting https://dog.ceo/api/breeds/image/random\n",
      "\n",
      "generating image https://images.dog.ceo/breeds/cattledog-australian/IMG_5481.jpg\n"
     ]
    },
    {
     "data": {
      "text/html": [
       "<img src=\"https://images.dog.ceo/breeds/cattledog-australian/IMG_5481.jpg\"/>"
      ],
      "text/plain": [
       "<IPython.core.display.Image object>"
      ]
     },
     "metadata": {},
     "output_type": "display_data"
    }
   ],
   "source": [
    "import asyncio\n",
    "import requests\n",
    "from IPython.display import Image \n",
    "\n",
    "def get_url(url):\n",
    "    print(\"requesting %s\" % url)\n",
    "    return requests.get(url)\n",
    "\n",
    "def fetch_image(url):\n",
    "    print(\"generating image %s\" % url)\n",
    "    return Image(url=url)\n",
    "\n",
    "def random_dog_callback(result_future):\n",
    "    url = result_future.result().json()[\"message\"]\n",
    "    fututre_image = loop.run_in_executor(None, fetch_image, url)\n",
    "    fututre_image.add_done_callback(lambda img: display(img.result()))\n",
    "\n",
    "loop = asyncio.get_running_loop()\n",
    "future_result = loop.run_in_executor(None, get_url, \"https://dog.ceo/api/breeds/image/random\")\n",
    "print(\"waiting for random dog...\")\n",
    "future_result.add_done_callback(random_dog_callback)\n"
   ]
  },
  {
   "cell_type": "markdown",
   "metadata": {},
   "source": [
    "## The Future doesn't look bright\n",
    "Futures in Python don't have a very good API, and working with asyncio Event Loop in python is no fun either. This code is not reusable, and has a lot of clutter just to get an image asyncronously. \n",
    "\n",
    "If we need to do it many times in our code base, in this constilation we will have to pad our code with get_running_loops and run_in_executor, and we also have a potential for callback hells."
   ]
  },
  {
   "cell_type": "markdown",
   "metadata": {},
   "source": [
    "We can write a Functor that will encapsulate the clutter, but our callbacks can be asyncronous as well. But, we can use the Monad Design Pattern."
   ]
  },
  {
   "cell_type": "markdown",
   "metadata": {},
   "source": [
    "A monad is an object that has a flat_map method, which is very simillar to map, but can also handle monads as values.\n",
    "\n"
   ]
  },
  {
   "cell_type": "markdown",
   "metadata": {},
   "source": [
    "## I promise you things will get better now...\n",
    "\n",
    "In Javascript, there are promises, lets implement something simillar in Python. It wraps the Future objects but simplifies its API while also hiding the over head of the asyncio Event Loop API."
   ]
  },
  {
   "cell_type": "code",
   "execution_count": 50,
   "metadata": {},
   "outputs": [],
   "source": [
    "class Vow:\n",
    "    def __init__(self, value=None):\n",
    "        self.value = value\n",
    "    def maybe_wrap(value):\n",
    "        if type(value) == Vow:\n",
    "            return value\n",
    "        return Vow(value)\n",
    "        \n",
    "    def flat_map(self, func):\n",
    "        loop = asyncio.get_running_loop()\n",
    "        # If value is a Vow, simply chain the func\n",
    "        if type(self.value) == Vow:\n",
    "            return Vow(loop.run_in_executor(None, lambda: self.value.flat_map(func)))\n",
    "        # If value is a Future value, then once it will be done execute func on the value\n",
    "        if asyncio.isfuture(self.value):\n",
    "            new_future = loop.create_future()\n",
    "            self.value.add_done_callback(lambda _: new_future.set_result(Vow.maybe_wrap(self.value.result()).flat_map(func)))\n",
    "            return Vow(new_future)\n",
    "        # If it is a simple value then tell the event loop to execute it later\n",
    "        return Vow(loop.run_in_executor(None, lambda: func(self.value)))\n",
    "\n",
    "    \n",
    "    def when(self, func):\n",
    "        return self.flat_map(func)"
   ]
  },
  {
   "cell_type": "code",
   "execution_count": 51,
   "metadata": {},
   "outputs": [
    {
     "name": "stdout",
     "output_type": "stream",
     "text": [
      "requesting https://dog.ceo/api/breeds/image/random\n",
      "\n",
      "generating image https://images.dog.ceo/breeds/malinois/n02105162_5327.jpg\n"
     ]
    },
    {
     "data": {
      "text/html": [
       "<img src=\"https://images.dog.ceo/breeds/malinois/n02105162_5327.jpg\"/>"
      ],
      "text/plain": [
       "<IPython.core.display.Image object>"
      ]
     },
     "metadata": {},
     "output_type": "display_data"
    }
   ],
   "source": [
    "Vow(\"https://dog.ceo/api/breeds/image/random\") \\\n",
    "    .flat_map(get_url) \\\n",
    "    .flat_map(lambda response: Vow(response.json())) \\\n",
    "    .flat_map(lambda json: json[\"message\"]) \\\n",
    "    .flat_map(fetch_image) \\\n",
    "    .flat_map(display)\n",
    "\n",
    "print(\"\")"
   ]
  },
  {
   "cell_type": "markdown",
   "metadata": {},
   "source": [
    "### And now with a better method name :)"
   ]
  },
  {
   "cell_type": "code",
   "execution_count": 52,
   "metadata": {},
   "outputs": [
    {
     "name": "stdout",
     "output_type": "stream",
     "text": [
      "requesting https://dog.ceo/api/breeds/image/random\n",
      "\n",
      "generating image https://images.dog.ceo/breeds/retriever-flatcoated/n02099267_4098.jpg\n"
     ]
    },
    {
     "data": {
      "text/html": [
       "<img src=\"https://images.dog.ceo/breeds/retriever-flatcoated/n02099267_4098.jpg\"/>"
      ],
      "text/plain": [
       "<IPython.core.display.Image object>"
      ]
     },
     "metadata": {},
     "output_type": "display_data"
    }
   ],
   "source": [
    "Vow(\"https://dog.ceo/api/breeds/image/random\") \\\n",
    "    .when(get_url)\\\n",
    "    .when(lambda response: Vow(response.json())) \\\n",
    "    .when(lambda json: json[\"message\"]) \\\n",
    "    .when(fetch_image) \\\n",
    "    .when(display)\n",
    "print(\"\")"
   ]
  },
  {
   "cell_type": "code",
   "execution_count": 53,
   "metadata": {},
   "outputs": [],
   "source": [
    "def whened(func):\n",
    "    def whened_func(self):\n",
    "        result = self.when(lambda v: func(self, v))\n",
    "        return ImageFetcher(result.value)\n",
    "    return whened_func\n",
    "\n",
    "class ImageFetcher(Vow):\n",
    "    @whened\n",
    "    def get_url(self, url):\n",
    "        print(\"requesting %s\" % url)\n",
    "        return requests.get(url)\n",
    "    \n",
    "    @whened\n",
    "    def get_image_url(self, response):\n",
    "        json = response.json()\n",
    "        return json[\"message\"]\n",
    "\n",
    "    @whened\n",
    "    def fetch_image(self, url):\n",
    "        print(\"generating image %s\" % url)\n",
    "        return Image(url=url)\n",
    "    \n",
    "    @whened\n",
    "    def display(self, img):\n",
    "        display(img)\n",
    "        \n"
   ]
  },
  {
   "cell_type": "code",
   "execution_count": 54,
   "metadata": {},
   "outputs": [
    {
     "name": "stdout",
     "output_type": "stream",
     "text": [
      "\n",
      "requesting https://dog.ceo/api/breeds/image/randomrequesting https://dog.ceo/api/breeds/image/random\n",
      "requesting https://dog.ceo/api/breeds/image/random\n",
      "\n",
      "generating image https://images.dog.ceo/breeds/setter-gordon/n02101006_3868.jpg\n"
     ]
    },
    {
     "data": {
      "text/html": [
       "<img src=\"https://images.dog.ceo/breeds/setter-gordon/n02101006_3868.jpg\"/>"
      ],
      "text/plain": [
       "<IPython.core.display.Image object>"
      ]
     },
     "metadata": {},
     "output_type": "display_data"
    },
    {
     "name": "stdout",
     "output_type": "stream",
     "text": [
      "generating image https://images.dog.ceo/breeds/whippet/n02091134_17394.jpg\n"
     ]
    },
    {
     "data": {
      "text/html": [
       "<img src=\"https://images.dog.ceo/breeds/whippet/n02091134_17394.jpg\"/>"
      ],
      "text/plain": [
       "<IPython.core.display.Image object>"
      ]
     },
     "metadata": {},
     "output_type": "display_data"
    },
    {
     "name": "stdout",
     "output_type": "stream",
     "text": [
      "generating image https://images.dog.ceo/breeds/retriever-curly/n02099429_1412.jpg\n"
     ]
    },
    {
     "data": {
      "text/html": [
       "<img src=\"https://images.dog.ceo/breeds/retriever-curly/n02099429_1412.jpg\"/>"
      ],
      "text/plain": [
       "<IPython.core.display.Image object>"
      ]
     },
     "metadata": {},
     "output_type": "display_data"
    }
   ],
   "source": [
    "ImageFetcher(\"https://dog.ceo/api/breeds/image/random\").get_url().get_image_url().fetch_image().display()\n",
    "ImageFetcher(\"https://dog.ceo/api/breeds/image/random\").get_url().get_image_url().fetch_image().display()\n",
    "ImageFetcher(\"https://dog.ceo/api/breeds/image/random\").get_url().get_image_url().fetch_image().display()\n",
    "print(\"\")"
   ]
  }
 ],
 "metadata": {
  "kernelspec": {
   "display_name": "Python 3",
   "language": "python",
   "name": "python3"
  },
  "language_info": {
   "codemirror_mode": {
    "name": "ipython",
    "version": 3
   },
   "file_extension": ".py",
   "mimetype": "text/x-python",
   "name": "python",
   "nbconvert_exporter": "python",
   "pygments_lexer": "ipython3",
   "version": "3.8.1"
  }
 },
 "nbformat": 4,
 "nbformat_minor": 4
}
