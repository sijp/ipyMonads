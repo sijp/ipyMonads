{
 "cells": [
  {
   "cell_type": "markdown",
   "metadata": {},
   "source": [
    "# Functors - Objects with a map function"
   ]
  },
  {
   "cell_type": "markdown",
   "metadata": {},
   "source": [
    "## Example 1: Arrays"
   ]
  },
  {
   "cell_type": "code",
   "execution_count": 26,
   "metadata": {},
   "outputs": [
    {
     "name": "stdout",
     "output_type": "stream",
     "text": [
      "[1, 2, 3]\n",
      "[2, 4, 6]\n"
     ]
    }
   ],
   "source": [
    "class Array:\n",
    "    def __init__(self, *args):\n",
    "        self.values = [*args]\n",
    "    def map(self, func):\n",
    "        return Array(*list(map(func, self.values)))\n",
    "    def __str__(self):\n",
    "        return self.values.__str__()\n",
    "\n",
    "arr = Array(1,2,3)\n",
    "print(arr)\n",
    "arr2 = arr.map(lambda v: v*2)\n",
    "print(arr2)"
   ]
  },
  {
   "cell_type": "code",
   "execution_count": 27,
   "metadata": {},
   "outputs": [],
   "source": [
    "class Functor:\n",
    "    def __init__(self, value):\n",
    "        self.value = value\n",
    "    def map(self, func):\n",
    "        return Functor(func(self.value))\n",
    "    def __str__(self):\n",
    "        return \"Functor(%s)\" % self.value"
   ]
  },
  {
   "cell_type": "code",
   "execution_count": 28,
   "metadata": {},
   "outputs": [
    {
     "name": "stdout",
     "output_type": "stream",
     "text": [
      "Functor(5)\n",
      "Functor(10)\n"
     ]
    }
   ],
   "source": [
    "Five = Functor(5)\n",
    "print(Five)\n",
    "Ten = Five.map(lambda v: v*2)\n",
    "print(Ten)"
   ]
  },
  {
   "cell_type": "code",
   "execution_count": 29,
   "metadata": {},
   "outputs": [
    {
     "name": "stdout",
     "output_type": "stream",
     "text": [
      "Functor(Functor(10))\n"
     ]
    }
   ],
   "source": [
    "BadTen = Five.map(lambda v: Functor(v*2))\n",
    "print(BadTen)"
   ]
  },
  {
   "cell_type": "markdown",
   "metadata": {},
   "source": [
    "# Monad - Objects with flat_map function"
   ]
  },
  {
   "cell_type": "code",
   "execution_count": 30,
   "metadata": {},
   "outputs": [
    {
     "name": "stdout",
     "output_type": "stream",
     "text": [
      "waiting for random dog...\n",
      "downloading dog...\n"
     ]
    },
    {
     "data": {
      "text/html": [
       "<img src=\"https://images.dog.ceo/breeds/pekinese/n02086079_2933.jpg\"/>"
      ],
      "text/plain": [
       "<IPython.core.display.Image object>"
      ]
     },
     "metadata": {},
     "output_type": "display_data"
    }
   ],
   "source": [
    "import asyncio\n",
    "import requests\n",
    "from IPython.display import Image \n",
    "\n",
    "def random_dog():\n",
    "    response = requests.get(\"https://dog.ceo/api/breeds/image/random\")\n",
    "    return response.json()\n",
    "\n",
    "def fetch_image(url):\n",
    "    return Image(url=url)\n",
    "    \n",
    "loop = asyncio.get_running_loop()\n",
    "result = loop.run_in_executor(None, random_dog)\n",
    "print(\"waiting for random dog...\")\n",
    "url = (await result)[\"message\"]\n",
    "image = loop.run_in_executor(None, lambda: fetch_image(url))\n",
    "print(\"downloading dog...\")\n",
    "display(await image)"
   ]
  },
  {
   "cell_type": "code",
   "execution_count": 31,
   "metadata": {},
   "outputs": [
    {
     "name": "stdout",
     "output_type": "stream",
     "text": [
      "requesting https://dog.ceo/api/breeds/image/random\n",
      "\n",
      "generating image https://images.dog.ceo/breeds/eskimo/n02109961_9973.jpg\n"
     ]
    },
    {
     "data": {
      "text/html": [
       "<img src=\"https://images.dog.ceo/breeds/eskimo/n02109961_9973.jpg\"/>"
      ],
      "text/plain": [
       "<IPython.core.display.Image object>"
      ]
     },
     "metadata": {},
     "output_type": "display_data"
    }
   ],
   "source": [
    "import asyncio\n",
    "import requests\n",
    "from IPython.display import Image \n",
    "\n",
    "def get_url(url):\n",
    "    print(\"requesting %s\" % url)\n",
    "    return  requests.get(url)\n",
    "\n",
    "def fetch_image(url):\n",
    "    print(\"generating image %s\" % url)\n",
    "    return Image(url=url)\n",
    "\n",
    "class Vow:\n",
    "    def __init__(self, value=None):\n",
    "        self.value = value\n",
    "    def maybe_wrap(value):\n",
    "        if type(value) == Vow:\n",
    "            return value\n",
    "        return Vow(value)\n",
    "        \n",
    "    def flat_map(self, func):\n",
    "        loop = asyncio.get_running_loop()\n",
    "        # If value is a Vow, simply chain the func\n",
    "        if type(self.value) == Vow:\n",
    "            return Vow.maybe_wrap(self.value.flat_map(func))\n",
    "        # If value is a Future value, then once it will be done execute func on the value\n",
    "        if asyncio.isfuture(self.value):\n",
    "            new_future = loop.create_future()\n",
    "            self.value.add_done_callback(lambda _: new_future.set_result(Vow.maybe_wrap(self.value.result()).flat_map(func)))\n",
    "            return Vow(new_future)\n",
    "        # If it is a simple value then tell the event loop to execute it later\n",
    "        return Vow(loop.run_in_executor(None, lambda: func(self.value)))\n",
    "    def when(self, func):\n",
    "        return self.flat_map(func)\n",
    "\n",
    "    \n",
    "Vow(\"https://dog.ceo/api/breeds/image/random\") \\\n",
    "    .flat_map(get_url)\\\n",
    "    .flat_map(lambda response: Vow(response.json())) \\\n",
    "    .flat_map(lambda json: json[\"message\"]) \\\n",
    "    .flat_map(fetch_image) \\\n",
    "    .flat_map(display)\n",
    "\n",
    "print(\"\")"
   ]
  },
  {
   "cell_type": "code",
   "execution_count": 32,
   "metadata": {},
   "outputs": [
    {
     "name": "stdout",
     "output_type": "stream",
     "text": [
      "requesting https://dog.ceo/api/breeds/image/random\n",
      "\n",
      "generating image https://images.dog.ceo/breeds/hound-afghan/n02088094_13145.jpg\n"
     ]
    },
    {
     "data": {
      "text/html": [
       "<img src=\"https://images.dog.ceo/breeds/hound-afghan/n02088094_13145.jpg\"/>"
      ],
      "text/plain": [
       "<IPython.core.display.Image object>"
      ]
     },
     "metadata": {},
     "output_type": "display_data"
    }
   ],
   "source": [
    "Vow(\"https://dog.ceo/api/breeds/image/random\") \\\n",
    "    .when(get_url)\\\n",
    "    .when(lambda response: Vow(response.json())) \\\n",
    "    .when(lambda json: json[\"message\"]) \\\n",
    "    .when(fetch_image) \\\n",
    "    .when(display)\n",
    "print(\"\")"
   ]
  }
 ],
 "metadata": {
  "kernelspec": {
   "display_name": "Python 3",
   "language": "python",
   "name": "python3"
  },
  "language_info": {
   "codemirror_mode": {
    "name": "ipython",
    "version": 3
   },
   "file_extension": ".py",
   "mimetype": "text/x-python",
   "name": "python",
   "nbconvert_exporter": "python",
   "pygments_lexer": "ipython3",
   "version": "3.7.6"
  }
 },
 "nbformat": 4,
 "nbformat_minor": 4
}
